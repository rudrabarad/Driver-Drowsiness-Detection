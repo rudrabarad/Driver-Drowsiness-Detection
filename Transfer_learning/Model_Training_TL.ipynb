{
  "nbformat": 4,
  "nbformat_minor": 0,
  "metadata": {
    "kernelspec": {
      "display_name": "Python 3",
      "language": "python",
      "name": "python3"
    },
    "language_info": {
      "codemirror_mode": {
        "name": "ipython",
        "version": 3
      },
      "file_extension": ".py",
      "mimetype": "text/x-python",
      "name": "python",
      "nbconvert_exporter": "python",
      "pygments_lexer": "ipython3",
      "version": "3.7.9"
    },
    "colab": {
      "name": "Model Training TL.ipynb",
      "provenance": [],
      "collapsed_sections": []
    },
    "accelerator": "GPU"
  },
  "cells": [
    {
      "cell_type": "code",
      "metadata": {
        "colab": {
          "base_uri": "https://localhost:8080/"
        },
        "id": "9DkUIlgGSSDS",
        "outputId": "1fe3f6ef-fce6-42e0-ce4d-82cbb13f0bdc"
      },
      "source": [
        "from google.colab import drive\n",
        "drive.mount('/content/drive')"
      ],
      "execution_count": null,
      "outputs": [
        {
          "output_type": "stream",
          "name": "stdout",
          "text": [
            "Drive already mounted at /content/drive; to attempt to forcibly remount, call drive.mount(\"/content/drive\", force_remount=True).\n"
          ]
        }
      ]
    },
    {
      "cell_type": "code",
      "metadata": {
        "colab": {
          "base_uri": "https://localhost:8080/"
        },
        "id": "bLHuXdKvSJl2",
        "outputId": "7979e62b-cdad-4bc5-a010-bd3087bc2991"
      },
      "source": [
        "cd \"/content/drive/MyDrive/Python Practical lab/SGP\""
      ],
      "execution_count": null,
      "outputs": [
        {
          "output_type": "stream",
          "name": "stdout",
          "text": [
            "/content/drive/MyDrive/Python Practical lab/SGP\n"
          ]
        }
      ]
    },
    {
      "cell_type": "code",
      "metadata": {
        "id": "U1XMfRMjSE09"
      },
      "source": [
        "import tensorflow as tf\n",
        "from tensorflow.keras.applications import InceptionV3\n",
        "from tensorflow.keras.models import Model\n",
        "from tensorflow.keras.layers import Dropout,Input,Flatten,Dense,MaxPooling2D\n",
        "from tensorflow.keras.preprocessing.image import ImageDataGenerator  # Data Augumentation"
      ],
      "execution_count": null,
      "outputs": []
    },
    {
      "cell_type": "code",
      "metadata": {
        "id": "cHf3vK0SSE1b"
      },
      "source": [
        "batchsize=8"
      ],
      "execution_count": null,
      "outputs": []
    },
    {
      "cell_type": "code",
      "metadata": {
        "colab": {
          "base_uri": "https://localhost:8080/"
        },
        "id": "5dz_amoLSE1f",
        "outputId": "14431da5-8700-4ba2-fd1d-d527a5fd3248"
      },
      "source": [
        "train_datagen= ImageDataGenerator(rescale=1./255, rotation_range=0.2,shear_range=0.2,\n",
        "    zoom_range=0.2,width_shift_range=0.2,\n",
        "    height_shift_range=0.2, validation_split=0.2)\n",
        "\n",
        "train_data= train_datagen.flow_from_directory(r'dataset/train',\n",
        "                                target_size=(80,80),batch_size=batchsize,class_mode='categorical',subset='training' )\n",
        "\n",
        "validation_data= train_datagen.flow_from_directory(r'dataset/train',\n",
        "                                target_size=(80,80),batch_size=batchsize,class_mode='categorical', subset='validation')"
      ],
      "execution_count": null,
      "outputs": [
        {
          "output_type": "stream",
          "name": "stdout",
          "text": [
            "Found 1975 images belonging to 4 classes.\n",
            "Found 492 images belonging to 4 classes.\n"
          ]
        }
      ]
    },
    {
      "cell_type": "code",
      "metadata": {
        "colab": {
          "base_uri": "https://localhost:8080/"
        },
        "id": "nDjG8Es0SE1l",
        "outputId": "997c1648-6630-430a-8887-8dc1ade45d8e"
      },
      "source": [
        "test_datagen = ImageDataGenerator(rescale=1./255)\n",
        "\n",
        "test_data = test_datagen.flow_from_directory(r'dataset/test',\n",
        "                                target_size=(80,80),batch_size=batchsize,class_mode='categorical')"
      ],
      "execution_count": null,
      "outputs": [
        {
          "output_type": "stream",
          "name": "stdout",
          "text": [
            "Found 433 images belonging to 4 classes.\n"
          ]
        }
      ]
    },
    {
      "cell_type": "code",
      "metadata": {
        "id": "GyCC9lcPSE1o"
      },
      "source": [
        "bmodel = InceptionV3(include_top=False, weights='imagenet', input_tensor=Input(shape=(80,80,3)))\n",
        "hmodel = bmodel.output\n",
        "hmodel = Flatten()(hmodel)\n",
        "hmodel = Dense(64, activation='relu')(hmodel)\n",
        "hmodel = Dropout(0.5)(hmodel)\n",
        "hmodel = Dense(4,activation= 'softmax')(hmodel)\n",
        "\n",
        "model = Model(inputs=bmodel.input, outputs= hmodel)\n",
        "for layer in bmodel.layers:\n",
        "    layer.trainable = False"
      ],
      "execution_count": null,
      "outputs": []
    },
    {
      "cell_type": "code",
      "metadata": {
        "id": "gp3ybo_7SE1u"
      },
      "source": [
        "model.summary()"
      ],
      "execution_count": null,
      "outputs": []
    },
    {
      "cell_type": "code",
      "metadata": {
        "id": "DaaoN5naSE16"
      },
      "source": [
        "from tensorflow.keras.callbacks import ModelCheckpoint,EarlyStopping, ReduceLROnPlateau"
      ],
      "execution_count": null,
      "outputs": []
    },
    {
      "cell_type": "code",
      "metadata": {
        "id": "d_KYDhKFSE19"
      },
      "source": [
        "checkpoint = ModelCheckpoint(r'models/model.h5',monitor='val_loss',save_best_only=True,verbose=3)\n",
        "\n",
        "earlystop = EarlyStopping(monitor = 'val_loss', patience=7, verbose= 3, restore_best_weights=True)\n",
        "\n",
        "learning_rate = ReduceLROnPlateau(monitor= 'val_loss', patience=3, verbose= 3 )\n",
        "\n",
        "callbacks=[checkpoint,earlystop,learning_rate]"
      ],
      "execution_count": null,
      "outputs": []
    },
    {
      "cell_type": "code",
      "metadata": {
        "colab": {
          "base_uri": "https://localhost:8080/"
        },
        "id": "NPY3eSRCSE2D",
        "outputId": "787ee7a4-78b2-4afb-f183-a596e44a0459"
      },
      "source": [
        "model.compile(optimizer='Adam', loss='categorical_crossentropy',metrics=['accuracy'])\n",
        "model.fit_generator(train_data,steps_per_epoch=train_data.samples//batchsize,validation_data=validation_data,validation_steps=validation_data.samples//batchsize,callbacks=callbacks,epochs=5)"
      ],
      "execution_count": null,
      "outputs": [
        {
          "output_type": "stream",
          "name": "stderr",
          "text": [
            "/usr/local/lib/python3.7/dist-packages/keras/engine/training.py:1972: UserWarning: `Model.fit_generator` is deprecated and will be removed in a future version. Please use `Model.fit`, which supports generators.\n",
            "  warnings.warn('`Model.fit_generator` is deprecated and '\n"
          ]
        },
        {
          "output_type": "stream",
          "name": "stdout",
          "text": [
            "Epoch 1/5\n",
            "246/246 [==============================] - 963s 4s/step - loss: 0.7011 - accuracy: 0.6924 - val_loss: 0.4291 - val_accuracy: 0.7439\n",
            "\n",
            "Epoch 00001: val_loss improved from inf to 0.42912, saving model to models/model.h5\n",
            "Epoch 2/5\n",
            "246/246 [==============================] - 24s 98ms/step - loss: 0.4688 - accuracy: 0.7631 - val_loss: 0.4246 - val_accuracy: 0.7643\n",
            "\n",
            "Epoch 00002: val_loss improved from 0.42912 to 0.42456, saving model to models/model.h5\n",
            "Epoch 3/5\n",
            "246/246 [==============================] - 24s 96ms/step - loss: 0.4218 - accuracy: 0.7911 - val_loss: 0.4117 - val_accuracy: 0.7561\n",
            "\n",
            "Epoch 00003: val_loss improved from 0.42456 to 0.41170, saving model to models/model.h5\n",
            "Epoch 4/5\n",
            "246/246 [==============================] - 24s 97ms/step - loss: 0.4178 - accuracy: 0.7783 - val_loss: 0.4276 - val_accuracy: 0.7029\n",
            "\n",
            "Epoch 00004: val_loss did not improve from 0.41170\n",
            "Epoch 5/5\n",
            "246/246 [==============================] - 24s 96ms/step - loss: 0.3967 - accuracy: 0.7885 - val_loss: 0.3605 - val_accuracy: 0.8197\n",
            "\n",
            "Epoch 00005: val_loss improved from 0.41170 to 0.36051, saving model to models/model.h5\n"
          ]
        },
        {
          "output_type": "execute_result",
          "data": {
            "text/plain": [
              "<keras.callbacks.History at 0x7f5159a75090>"
            ]
          },
          "metadata": {},
          "execution_count": 21
        }
      ]
    }
  ]
}